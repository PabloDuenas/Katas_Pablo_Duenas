{
 "cells": [
  {
   "cell_type": "markdown",
   "metadata": {},
   "source": [
    "Ejercicio 1: Utilizar Operadores Aritmeticos"
   ]
  },
  {
   "cell_type": "code",
   "execution_count": 3,
   "metadata": {},
   "outputs": [],
   "source": [
    "Tierra = 149597870\n",
    "Jupyter = 778547200\n",
    "\n"
   ]
  },
  {
   "cell_type": "code",
   "execution_count": 10,
   "metadata": {},
   "outputs": [
    {
     "name": "stdout",
     "output_type": "stream",
     "text": [
      "628949330\n",
      "390577533.93\n",
      "\n",
      "Distancia de planetas Km: 628949330\n",
      "Distancia de planetas millas: 390577533.93\n",
      "\n",
      "\n"
     ]
    }
   ],
   "source": [
    "distancia_planetas_km = Jupyter - Tierra\n",
    "print(distancia_planetas_km)\n",
    "distancia_millas = distancia_planetas_km * 0.621\n",
    "print(distancia_millas)\n",
    "\n",
    "template = \"\"\"\n",
    "Distancia de planetas Km: {distancia_planetas_km}\n",
    "Distancia de planetas millas: {distancia_millas}\n",
    "\n",
    "\"\"\"\n",
    "print(template.format(distancia_planetas_km=distancia_planetas_km, distancia_millas=distancia_millas))\n"
   ]
  },
  {
   "cell_type": "markdown",
   "metadata": {},
   "source": [
    "Ejercicio 2: Convierte Cadenas en Números y usa Valores Absolutos "
   ]
  },
  {
   "cell_type": "code",
   "execution_count": 6,
   "metadata": {},
   "outputs": [],
   "source": [
    "Saturno = input('143300000')\n",
    "Venus = input('108200000')\n"
   ]
  },
  {
   "cell_type": "code",
   "execution_count": 10,
   "metadata": {},
   "outputs": [],
   "source": [
    "Saturno = int(143300000)\n",
    "Venus= int(108200000)"
   ]
  },
  {
   "cell_type": "code",
   "execution_count": 11,
   "metadata": {},
   "outputs": [
    {
     "name": "stdout",
     "output_type": "stream",
     "text": [
      "143300000\n"
     ]
    }
   ],
   "source": [
    "print(Saturno)"
   ]
  },
  {
   "cell_type": "code",
   "execution_count": 16,
   "metadata": {},
   "outputs": [
    {
     "name": "stdout",
     "output_type": "stream",
     "text": [
      "35100000\n",
      "21797100.0\n",
      "\n",
      "Distancia en kilometros: 35100000\n",
      "Dustancia en millas: 21797100.0\n",
      "\n",
      "\n"
     ]
    }
   ],
   "source": [
    "distance_planet = Saturno - Venus\n",
    "print(distance_planet)\n",
    "Distance_millas = distance_planet * 0.621\n",
    "print(Distance_millas)\n",
    "\n",
    "template = \"\"\"\n",
    "Distancia en kilometros: {distance_planet}\n",
    "Dustancia en millas: {Distance_millas}\n",
    "\n",
    "\"\"\"\n",
    "print(template.format(distance_planet=distance_planet, Distance_millas=Distance_millas))\n"
   ]
  }
 ],
 "metadata": {
  "interpreter": {
   "hash": "aa0535eba4b5d0b0e9d05dbd6600991d61193607d556cf590750d4e5a235fd2b"
  },
  "kernelspec": {
   "display_name": "Python 3.10.2 64-bit",
   "language": "python",
   "name": "python3"
  },
  "language_info": {
   "codemirror_mode": {
    "name": "ipython",
    "version": 3
   },
   "file_extension": ".py",
   "mimetype": "text/x-python",
   "name": "python",
   "nbconvert_exporter": "python",
   "pygments_lexer": "ipython3",
   "version": "3.10.2"
  },
  "orig_nbformat": 4
 },
 "nbformat": 4,
 "nbformat_minor": 2
}
