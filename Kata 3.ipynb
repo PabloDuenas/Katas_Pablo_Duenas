{
 "cells": [
  {
   "cell_type": "markdown",
   "metadata": {},
   "source": [
    "#Primer ejercicio"
   ]
  },
  {
   "cell_type": "code",
   "execution_count": 1,
   "metadata": {},
   "outputs": [
    {
     "name": "stdout",
     "output_type": "stream",
     "text": [
      "Alerta de asteroide cerca!\n"
     ]
    }
   ],
   "source": [
    "asteroide= 49\n",
    "if asteroide > 25:\n",
    "    print (\"Alerta de asteroide cerca!\")\n",
    "else:\n",
    "    print(\"Sigue con tu camino viajero :)\")"
   ]
  },
  {
   "cell_type": "markdown",
   "metadata": {},
   "source": [
    "Segundo Ejercicio"
   ]
  },
  {
   "cell_type": "code",
   "execution_count": 3,
   "metadata": {},
   "outputs": [
    {
     "name": "stdout",
     "output_type": "stream",
     "text": [
      "No avisar al mundo\n"
     ]
    }
   ],
   "source": [
    "asteroide=19\n",
    "if asteroide >20:\n",
    "    print(\"Asteroide en el cielo :o\")\n",
    "elif asteroide ==20:\n",
    "    print(\"Asteroide en el cielo:o\")\n",
    "else:\n",
    "    print(\"No avisar al mundo\")\n"
   ]
  },
  {
   "cell_type": "markdown",
   "metadata": {},
   "source": [
    "Ejercicio: Uso de Operadores"
   ]
  },
  {
   "cell_type": "code",
   "execution_count": 9,
   "metadata": {},
   "outputs": [
    {
     "name": "stdout",
     "output_type": "stream",
     "text": [
      "Peligro en la tierra\n"
     ]
    }
   ],
   "source": [
    "asteroidedimension=50\n",
    "velocidadasteroide=30\n",
    "if asteroidedimension >=25 and velocidadasteroide >25:\n",
    "    print(\"Peligro en la tierra\")\n",
    "elif asteroidedimension <1000 and velocidadasteroide >25:\n",
    "    print(\"Peligro en la tierra\")\n",
    "elif velocidadasteroide <=20:\n",
    "    print(\"Luz de asteroide en el cielo :)\")\n",
    "elif asteroidedimension <25 and velocidadasteroide <25:\n",
    "    print(\"No avisar\")\n",
    "else:\n",
    "    print(\"No avisar\")\n",
    "\n",
    "\n"
   ]
  }
 ],
 "metadata": {
  "interpreter": {
   "hash": "aa0535eba4b5d0b0e9d05dbd6600991d61193607d556cf590750d4e5a235fd2b"
  },
  "kernelspec": {
   "display_name": "Python 3.10.2 64-bit",
   "language": "python",
   "name": "python3"
  },
  "language_info": {
   "codemirror_mode": {
    "name": "ipython",
    "version": 3
   },
   "file_extension": ".py",
   "mimetype": "text/x-python",
   "name": "python",
   "nbconvert_exporter": "python",
   "pygments_lexer": "ipython3",
   "version": "3.10.2"
  },
  "orig_nbformat": 4
 },
 "nbformat": 4,
 "nbformat_minor": 2
}
