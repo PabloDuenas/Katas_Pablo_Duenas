{
 "cells": [
  {
   "cell_type": "markdown",
   "metadata": {},
   "source": [
    "Ejercicio 1: Trasformar Cadenas"
   ]
  },
  {
   "cell_type": "code",
   "execution_count": 59,
   "metadata": {},
   "outputs": [
    {
     "data": {
      "text/plain": [
       "[' \"Interesting facts about the Moon\"',\n",
       " '\"The Moon is Earth\\'s only satellite\"',\n",
       " '\"There are several interesting facts about the Moon and how it affects life here on Earth\"',\n",
       " '\"On average, the Moon moves 4cm away from the Earth every year\"',\n",
       " '\"This yearly drift is not significant enough to cause immediate effects on Earth\"',\n",
       " '\"The highest daylight temperature of the Moon is 127 C\"',\n",
       " '']"
      ]
     },
     "execution_count": 59,
     "metadata": {},
     "output_type": "execute_result"
    }
   ],
   "source": [
    "\n",
    "text_parts = text=(\"\"\" \"Interesting facts about the Moon\". \"The Moon is Earth's only satellite\". \"There are several interesting facts about the Moon and how it affects life here on Earth\". \"On average, the Moon moves 4cm away from the Earth every year\". \"This yearly drift is not significant enough to cause immediate effects on Earth\". \"The highest daylight temperature of the Moon is 127 C\". \"\"\")\n",
    "\n",
    "\n",
    "text_parts = text.split (\". \")\n",
    "\n",
    "text_parts\n"
   ]
  },
  {
   "cell_type": "code",
   "execution_count": 49,
   "metadata": {},
   "outputs": [],
   "source": [
    "\n",
    "\n",
    "\n",
    "key_words = [\"average\", \"temperature\", \"distance\", \"satellite\"]"
   ]
  },
  {
   "cell_type": "code",
   "execution_count": 60,
   "metadata": {},
   "outputs": [
    {
     "name": "stdout",
     "output_type": "stream",
     "text": [
      "\"The Moon is Earth's only satellite\"\n",
      "\"On average, the Moon moves 4cm away from the Earth every year\"\n",
      "\"The highest daylight temperature of the Moon is 127 C\"\n"
     ]
    }
   ],
   "source": [
    "for sentence in text_parts:\n",
    "    for key_word in key_words:\n",
    "        if key_word in sentence:\n",
    "            print(sentence)\n",
    "            break\n",
    "\n",
    "\n",
    "\n"
   ]
  },
  {
   "cell_type": "code",
   "execution_count": 62,
   "metadata": {},
   "outputs": [
    {
     "name": "stdout",
     "output_type": "stream",
     "text": [
      "\"The Moon is Earth's only satellite\"\n",
      "\"On average, the Moon moves 4cm away from the Earth every year\"\n",
      "\"The highest daylight temperature of the Moon is 127 Celsius\"\n"
     ]
    }
   ],
   "source": [
    "for sentence in text_parts:\n",
    "    for key_word in key_words:\n",
    "        if key_word in sentence:\n",
    "            print(sentence.replace(\" C\", \" Celsius\"))\n",
    "            break\n"
   ]
  },
  {
   "cell_type": "markdown",
   "metadata": {},
   "source": [
    "Ejercicio 2: Formateando Cadenas"
   ]
  },
  {
   "cell_type": "code",
   "execution_count": 69,
   "metadata": {},
   "outputs": [],
   "source": [
    "name = \"Luna\"\n",
    "gravity = 0.00162 \n",
    "planet = \"Tierra\""
   ]
  },
  {
   "cell_type": "code",
   "execution_count": 79,
   "metadata": {},
   "outputs": [],
   "source": [
    "title = f\"Datos de gravedad sobre la {name}\""
   ]
  },
  {
   "cell_type": "code",
   "execution_count": 81,
   "metadata": {},
   "outputs": [],
   "source": [
    "Hechos = f\"\"\"{\"-\" *80}\n",
    "Nombre del planeta: Tierra\n",
    "Gravedad en la Luna: {gravity * 1000} m/s2\n",
    "\n",
    "\"\"\""
   ]
  },
  {
   "cell_type": "code",
   "execution_count": 82,
   "metadata": {},
   "outputs": [
    {
     "name": "stdout",
     "output_type": "stream",
     "text": [
      "--------------------------------------------------------------------------------\n",
      "Nombre del planeta: Tierra\n",
      "Gravedad en la Luna: 1.6199999999999999 m/s2\n",
      "\n",
      "\n"
     ]
    }
   ],
   "source": [
    "template = f\"\"\" {title.title()}\n",
    "{Hechos}\n",
    "\"\"\"\n",
    "print(Hechos)\n"
   ]
  },
  {
   "cell_type": "code",
   "execution_count": 86,
   "metadata": {},
   "outputs": [
    {
     "name": "stdout",
     "output_type": "stream",
     "text": [
      "\n",
      "Datos de gravedad sobre la Luna\n",
      "\n",
      "Nombre del planeta: Tierra\n",
      "Gravedad en la Luna: 0.00162 m/s2\n",
      "\n",
      "\n",
      "\n"
     ]
    }
   ],
   "source": [
    "new_template = \"\"\"\n",
    "Datos de gravedad sobre la {name}\n",
    "\n",
    "Nombre del planeta: {planet}\n",
    "Gravedad en la Luna: {gravity} m/s2\n",
    "\n",
    "\n",
    "\"\"\"\n",
    "print (new_template.format(planet=planet, name=name, gravity=gravity))"
   ]
  }
 ],
 "metadata": {
  "interpreter": {
   "hash": "aa0535eba4b5d0b0e9d05dbd6600991d61193607d556cf590750d4e5a235fd2b"
  },
  "kernelspec": {
   "display_name": "Python 3.10.2 64-bit",
   "language": "python",
   "name": "python3"
  },
  "language_info": {
   "codemirror_mode": {
    "name": "ipython",
    "version": 3
   },
   "file_extension": ".py",
   "mimetype": "text/x-python",
   "name": "python",
   "nbconvert_exporter": "python",
   "pygments_lexer": "ipython3",
   "version": "3.10.2"
  },
  "orig_nbformat": 4
 },
 "nbformat": 4,
 "nbformat_minor": 2
}
