{
 "cells": [
  {
   "cell_type": "markdown",
   "metadata": {},
   "source": [
    "Ejercicio 1: Crear y Usar Listas de Python"
   ]
  },
  {
   "cell_type": "code",
   "execution_count": 2,
   "metadata": {},
   "outputs": [
    {
     "name": "stdout",
     "output_type": "stream",
     "text": [
      "['Mercurio', 'Venus', 'Tierra', 'Marte', 'Jupiter', 'Saturno', 'Urano', 'Neptuno']\n"
     ]
    }
   ],
   "source": [
    "Planetas= [\"Mercurio\", \"Venus\", \"Tierra\", \"Marte\", \"Jupiter\", \"Saturno\", \"Urano\", \"Neptuno\"]\n",
    "\n",
    "print(Planetas)"
   ]
  },
  {
   "cell_type": "code",
   "execution_count": 4,
   "metadata": {},
   "outputs": [
    {
     "name": "stdout",
     "output_type": "stream",
     "text": [
      "El ultimo planeta es Pluton\n"
     ]
    }
   ],
   "source": [
    "Planetas.append(\"Pluton\")\n",
    "\n",
    "print('El ultimo planeta es', Planetas[8])"
   ]
  },
  {
   "cell_type": "markdown",
   "metadata": {},
   "source": [
    "Ejercicio 2: Trabajando con Datos de una Lista"
   ]
  },
  {
   "cell_type": "code",
   "execution_count": 15,
   "metadata": {},
   "outputs": [
    {
     "name": "stdout",
     "output_type": "stream",
     "text": [
      "['Mercurio', 'Venus', 'Tierra', 'Marte', 'Jupiter', 'Saturno', 'Neptuno']\n"
     ]
    }
   ],
   "source": [
    "planets = ['Mercurio', 'Venus', 'Tierra', 'Marte', 'Jupiter', 'Saturno', 'Neptuno']\n",
    "\n",
    "print(planets)"
   ]
  },
  {
   "cell_type": "code",
   "execution_count": 22,
   "metadata": {},
   "outputs": [],
   "source": [
    "u_planet = input('Tierra')\n"
   ]
  },
  {
   "cell_type": "code",
   "execution_count": 28,
   "metadata": {},
   "outputs": [
    {
     "name": "stdout",
     "output_type": "stream",
     "text": [
      "tu planeta se necuentra en el lugar 3 si se encunetra en el sistema solar\n"
     ]
    }
   ],
   "source": [
    "planets_index = planets.index('Tierra') \n",
    "\n",
    "print('tu planeta se necuentra en el lugar', planets_index +1, 'si se encunetra en el sistema solar')\n"
   ]
  },
  {
   "cell_type": "code",
   "execution_count": 31,
   "metadata": {},
   "outputs": [
    {
     "name": "stdout",
     "output_type": "stream",
     "text": [
      "\n",
      "\n",
      "Planetas antes de la tierra: ['Mercurio', 'Venus']\n",
      "\n"
     ]
    }
   ],
   "source": [
    "planetas_antes = planets[0:2]\n",
    "\n",
    "template = \"\"\"\n",
    "\n",
    "Planetas antes de la tierra: {planetas_antes}\n",
    "\"\"\"\n",
    "\n",
    "print(template.format(planetas_antes=planetas_antes))"
   ]
  },
  {
   "cell_type": "code",
   "execution_count": 33,
   "metadata": {},
   "outputs": [
    {
     "name": "stdout",
     "output_type": "stream",
     "text": [
      "\n",
      "\n",
      "Planetas despues de la Tierra: ['Marte', 'Jupiter', 'Saturno', 'Neptuno']\n",
      "\n",
      "\n"
     ]
    }
   ],
   "source": [
    "planetas_despues = planets[3:7]\n",
    "\n",
    "template = \"\"\"\n",
    "\n",
    "Planetas despues de la Tierra: {planetas_despues}\n",
    "\n",
    "\"\"\"\n",
    "\n",
    "print(template.format(planetas_despues=planetas_despues))\n"
   ]
  }
 ],
 "metadata": {
  "interpreter": {
   "hash": "aa0535eba4b5d0b0e9d05dbd6600991d61193607d556cf590750d4e5a235fd2b"
  },
  "kernelspec": {
   "display_name": "Python 3.10.2 64-bit",
   "language": "python",
   "name": "python3"
  },
  "language_info": {
   "codemirror_mode": {
    "name": "ipython",
    "version": 3
   },
   "file_extension": ".py",
   "mimetype": "text/x-python",
   "name": "python",
   "nbconvert_exporter": "python",
   "pygments_lexer": "ipython3",
   "version": "3.10.2"
  },
  "orig_nbformat": 4
 },
 "nbformat": 4,
 "nbformat_minor": 2
}
